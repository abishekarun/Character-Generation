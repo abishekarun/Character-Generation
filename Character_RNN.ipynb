{
  "nbformat": 4,
  "nbformat_minor": 0,
  "metadata": {
    "colab": {
      "name": "Character_RNN.ipynb",
      "version": "0.3.2",
      "views": {},
      "default_view": {},
      "provenance": [],
      "collapsed_sections": []
    },
    "kernelspec": {
      "display_name": "Python 3",
      "language": "python",
      "name": "python3"
    },
    "accelerator": "GPU"
  },
  "cells": [
    {
      "metadata": {
        "id": "3ijfI7vSBxfJ",
        "colab_type": "text"
      },
      "cell_type": "markdown",
      "source": [
        "# Pride & Prejudice\n",
        "\n",
        "In this notebook, we'll build a character-wise RNN trained on Wings of Fire, one of my all-time favorite books. It'll be able to generate new text based on the text from the book."
      ]
    },
    {
      "metadata": {
        "id": "2ZIodA5PBxfL",
        "colab_type": "code",
        "colab": {
          "autoexec": {
            "startup": false,
            "wait_interval": 0
          }
        }
      },
      "cell_type": "code",
      "source": [
        "import time\n",
        "from collections import namedtuple\n",
        "\n",
        "import numpy as np\n",
        "import tensorflow as tf"
      ],
      "execution_count": 0,
      "outputs": []
    },
    {
      "metadata": {
        "id": "_raxNU8zBxfR",
        "colab_type": "text"
      },
      "cell_type": "markdown",
      "source": [
        "First we'll load the text file and convert it into integers for our network to use. Here I'm creating a couple dictionaries to convert the characters to and from integers. Encoding the characters as integers makes it easier to use as input in the network."
      ]
    },
    {
      "metadata": {
        "id": "xyBzP21HBxfS",
        "colab_type": "code",
        "colab": {
          "autoexec": {
            "startup": false,
            "wait_interval": 0
          }
        }
      },
      "cell_type": "code",
      "source": [
        "with open('Pride_and_Prejudice.txt', encoding=\"utf8\", errors='ignore') as f:\n",
        "    text=f.read()\n",
        "vocab = sorted(set(text))\n",
        "vocab_to_int = {c: i for i, c in enumerate(vocab)}\n",
        "int_to_vocab = dict(enumerate(vocab))\n",
        "encoded = np.array([vocab_to_int[c] for c in text], dtype=np.int32)"
      ],
      "execution_count": 0,
      "outputs": []
    },
    {
      "metadata": {
        "id": "9lQjozNUBxfX",
        "colab_type": "text"
      },
      "cell_type": "markdown",
      "source": [
        "Let's check out the first 100 characters, make sure everything is peachy."
      ]
    },
    {
      "metadata": {
        "id": "0q1b4ZosBxfY",
        "colab_type": "code",
        "colab": {
          "autoexec": {
            "startup": false,
            "wait_interval": 0
          },
          "base_uri": "https://localhost:8080/",
          "height": 34
        },
        "outputId": "559bbcd7-dc55-4008-93e9-bb00229dd298",
        "executionInfo": {
          "status": "ok",
          "timestamp": 1524047556880,
          "user_tz": 420,
          "elapsed": 734,
          "user": {
            "displayName": "Arun Rajendran",
            "photoUrl": "https://lh3.googleusercontent.com/a/default-user=s128",
            "userId": "100710189298922321078"
          }
        }
      },
      "cell_type": "code",
      "source": [
        "text[:100]"
      ],
      "execution_count": 3,
      "outputs": [
        {
          "output_type": "execute_result",
          "data": {
            "text/plain": [
              "'Chapter 1\\nIt is a truth universally acknowledged, that a single man in possession of a good fortune,'"
            ]
          },
          "metadata": {
            "tags": []
          },
          "execution_count": 3
        }
      ]
    },
    {
      "metadata": {
        "id": "XgLcWDdyBxfb",
        "colab_type": "text"
      },
      "cell_type": "markdown",
      "source": [
        "And we can see the characters encoded as integers."
      ]
    },
    {
      "metadata": {
        "id": "jIIU_MlXBxfd",
        "colab_type": "code",
        "colab": {
          "autoexec": {
            "startup": false,
            "wait_interval": 0
          },
          "base_uri": "https://localhost:8080/",
          "height": 136
        },
        "outputId": "c83d3676-f933-448c-9a9b-b7ffd9353af6",
        "executionInfo": {
          "status": "ok",
          "timestamp": 1524047558361,
          "user_tz": 420,
          "elapsed": 309,
          "user": {
            "displayName": "Arun Rajendran",
            "photoUrl": "https://lh3.googleusercontent.com/a/default-user=s128",
            "userId": "100710189298922321078"
          }
        }
      },
      "cell_type": "code",
      "source": [
        "encoded[:100]"
      ],
      "execution_count": 4,
      "outputs": [
        {
          "output_type": "execute_result",
          "data": {
            "text/plain": [
              "array([24, 53, 46, 61, 65, 50, 63,  1, 10,  0, 30, 65,  1, 54, 64,  1, 46,\n",
              "        1, 65, 63, 66, 65, 53,  1, 66, 59, 54, 67, 50, 63, 64, 46, 57, 57,\n",
              "       70,  1, 46, 48, 56, 59, 60, 68, 57, 50, 49, 52, 50, 49,  6,  1, 65,\n",
              "       53, 46, 65,  1, 46,  1, 64, 54, 59, 52, 57, 50,  1, 58, 46, 59,  1,\n",
              "       54, 59,  1, 61, 60, 64, 64, 50, 64, 64, 54, 60, 59,  1, 60, 51,  1,\n",
              "       46,  1, 52, 60, 60, 49,  1, 51, 60, 63, 65, 66, 59, 50,  6],\n",
              "      dtype=int32)"
            ]
          },
          "metadata": {
            "tags": []
          },
          "execution_count": 4
        }
      ]
    },
    {
      "metadata": {
        "id": "81LuS-zl4z4L",
        "colab_type": "code",
        "colab": {
          "autoexec": {
            "startup": false,
            "wait_interval": 0
          },
          "base_uri": "https://localhost:8080/",
          "height": 34
        },
        "outputId": "d6945124-ade5-4bcc-8991-32f7ea8f3f97",
        "executionInfo": {
          "status": "ok",
          "timestamp": 1524047559436,
          "user_tz": 420,
          "elapsed": 309,
          "user": {
            "displayName": "Arun Rajendran",
            "photoUrl": "https://lh3.googleusercontent.com/a/default-user=s128",
            "userId": "100710189298922321078"
          }
        }
      },
      "cell_type": "code",
      "source": [
        "encoded.shape"
      ],
      "execution_count": 5,
      "outputs": [
        {
          "output_type": "execute_result",
          "data": {
            "text/plain": [
              "(679439,)"
            ]
          },
          "metadata": {
            "tags": []
          },
          "execution_count": 5
        }
      ]
    },
    {
      "metadata": {
        "id": "jdo3eGA7Bxfe",
        "colab_type": "text"
      },
      "cell_type": "markdown",
      "source": [
        "Since the network is working with individual characters, it's similar to a classification problem in which we are trying to predict the next character from the previous text.  Here's how many 'classes' our network has to pick from."
      ]
    },
    {
      "metadata": {
        "id": "jvlfHULgBxff",
        "colab_type": "code",
        "colab": {
          "autoexec": {
            "startup": false,
            "wait_interval": 0
          },
          "base_uri": "https://localhost:8080/",
          "height": 34
        },
        "outputId": "bda59624-acf9-49fb-8f00-9f3c251601a3",
        "executionInfo": {
          "status": "ok",
          "timestamp": 1524047560343,
          "user_tz": 420,
          "elapsed": 296,
          "user": {
            "displayName": "Arun Rajendran",
            "photoUrl": "https://lh3.googleusercontent.com/a/default-user=s128",
            "userId": "100710189298922321078"
          }
        }
      },
      "cell_type": "code",
      "source": [
        "len(vocab)"
      ],
      "execution_count": 6,
      "outputs": [
        {
          "output_type": "execute_result",
          "data": {
            "text/plain": [
              "72"
            ]
          },
          "metadata": {
            "tags": []
          },
          "execution_count": 6
        }
      ]
    },
    {
      "metadata": {
        "id": "Esdu1psrBxfi",
        "colab_type": "text"
      },
      "cell_type": "markdown",
      "source": [
        "## Making training mini-batches"
      ]
    },
    {
      "metadata": {
        "id": "XxhGmRGKBxfi",
        "colab_type": "code",
        "colab": {
          "autoexec": {
            "startup": false,
            "wait_interval": 0
          }
        }
      },
      "cell_type": "code",
      "source": [
        "def get_batches(arr, batch_size, n_steps):\n",
        "    '''Create a generator that returns batches of size\n",
        "       batch_size x n_steps from arr.\n",
        "       \n",
        "       Arguments\n",
        "       ---------\n",
        "       arr: Array you want to make batches from\n",
        "       batch_size: Batch size, the number of sequences per batch\n",
        "       n_steps: Number of sequence steps per batch\n",
        "    '''\n",
        "    # Get the number of characters per batch and number of batches we can make\n",
        "    characters_per_batch = batch_size*n_steps\n",
        "    n_batches = len(arr) // (characters_per_batch)\n",
        "    \n",
        "    # Keep only enough characters to make full batches\n",
        "    arr = arr[:n_batches*characters_per_batch]\n",
        "    \n",
        "    # Reshape into batch_size rows\n",
        "    arr = arr.reshape((batch_size,-1))\n",
        "    \n",
        "    for n in range(0, arr.shape[1], n_steps):\n",
        "        # The features\n",
        "        x = arr[:, n:n+n_steps]\n",
        "        # The targets, shifted by one\n",
        "        y_temp = arr[:, n+1:n+n_steps+1]\n",
        "        \n",
        "        # For the very last batch, y will be one character short at the end of \n",
        "        # the sequences which breaks things. To get around this, I'll make an \n",
        "        # array of the appropriate size first, of all zeros, then add the targets.\n",
        "        # This will introduce a small artifact in the last batch, but it won't matter.\n",
        "        y = np.zeros(x.shape, dtype=x.dtype)\n",
        "        y[:,:y_temp.shape[1]] = y_temp\n",
        "        yield x, y"
      ],
      "execution_count": 0,
      "outputs": []
    },
    {
      "metadata": {
        "id": "vRbq-eggBxfl",
        "colab_type": "text"
      },
      "cell_type": "markdown",
      "source": [
        "Now I'll make my data sets and we can check out what's going on here. Here I'm going to use a batch size of 10 and 50 sequence steps."
      ]
    },
    {
      "metadata": {
        "id": "fwFYcLWWBxfm",
        "colab_type": "code",
        "colab": {
          "autoexec": {
            "startup": false,
            "wait_interval": 0
          }
        }
      },
      "cell_type": "code",
      "source": [
        "batches = get_batches(encoded, 10, 50)\n",
        "x, y = next(batches)"
      ],
      "execution_count": 0,
      "outputs": []
    },
    {
      "metadata": {
        "id": "pq49Qin3Bxfq",
        "colab_type": "code",
        "colab": {
          "autoexec": {
            "startup": false,
            "wait_interval": 0
          },
          "base_uri": "https://localhost:8080/",
          "height": 408
        },
        "outputId": "f047835a-b813-4022-e434-381b4f825d71",
        "executionInfo": {
          "status": "ok",
          "timestamp": 1524047563692,
          "user_tz": 420,
          "elapsed": 313,
          "user": {
            "displayName": "Arun Rajendran",
            "photoUrl": "https://lh3.googleusercontent.com/a/default-user=s128",
            "userId": "100710189298922321078"
          }
        }
      },
      "cell_type": "code",
      "source": [
        "print('x\\n', x[:10, :10])\n",
        "print('\\ny\\n', y[:10, :10])"
      ],
      "execution_count": 9,
      "outputs": [
        {
          "output_type": "stream",
          "text": [
            "x\n",
            " [[24 53 46 61 65 50 63  1 10  0]\n",
            " [46 65  1 53 50 63  1 51 60 63]\n",
            " [ 1 54 59  1 65 53 50  1 61 63]\n",
            " [ 1 49 50 65 50 63 58 54 59 50]\n",
            " [ 1 65 53 50 63 50  1 68 50 63]\n",
            " [51 63 60 58  1 70 60 66 63  1]\n",
            " [52 53 65 50 59 50 49  1 48 60]\n",
            " [ 1 47 50 57 54 50 67 50  1 65]\n",
            " [50 46 52 50 63 59 50 64 64  1]\n",
            " [60 66 64  1 46 59 49  1 51 60]]\n",
            "\n",
            "y\n",
            " [[53 46 61 65 50 63  1 10  0 30]\n",
            " [65  1 53 50 63  1 51 60 63  1]\n",
            " [54 59  1 65 53 50  1 61 63 60]\n",
            " [49 50 65 50 63 58 54 59 50 49]\n",
            " [65 53 50 63 50  1 68 50 63 50]\n",
            " [63 60 58  1 70 60 66 63  1 64]\n",
            " [53 65 50 59 50 49  1 48 60 58]\n",
            " [47 50 57 54 50 67 50  1 65 53]\n",
            " [46 52 50 63 59 50 64 64  1 65]\n",
            " [66 64  1 46 59 49  1 51 60 63]]\n"
          ],
          "name": "stdout"
        }
      ]
    },
    {
      "metadata": {
        "id": "i4lZglCOBxfu",
        "colab_type": "text"
      },
      "cell_type": "markdown",
      "source": [
        "## Building the model\n",
        "\n",
        "### Inputs"
      ]
    },
    {
      "metadata": {
        "id": "9NDAt6-uBxfu",
        "colab_type": "code",
        "colab": {
          "autoexec": {
            "startup": false,
            "wait_interval": 0
          }
        }
      },
      "cell_type": "code",
      "source": [
        "def build_inputs(batch_size, num_steps):\n",
        "    ''' Define placeholders for inputs, targets, and dropout \n",
        "    \n",
        "        Arguments\n",
        "        ---------\n",
        "        batch_size: Batch size, number of sequences per batch\n",
        "        num_steps: Number of sequence steps in a batch\n",
        "        \n",
        "    '''\n",
        "    # Declare placeholders we'll feed into the graph\n",
        "    inputs = tf.placeholder(tf.int32, shape=(batch_size,num_steps),name='inputs')\n",
        "    targets = tf.placeholder(tf.int32, shape=(batch_size,num_steps),name='targets')\n",
        "    \n",
        "    # Keep probability placeholder for drop out layers\n",
        "    keep_prob = tf.placeholder(tf.float32,name='keep_prob')\n",
        "    \n",
        "    return inputs, targets, keep_prob"
      ],
      "execution_count": 0,
      "outputs": []
    },
    {
      "metadata": {
        "id": "qFD28Dd9Bxfx",
        "colab_type": "text"
      },
      "cell_type": "markdown",
      "source": [
        "### LSTM Cell\n",
        "\n",
        "Here we will create the LSTM cell we'll use in the hidden layer. We'll use this cell as a building block for the RNN. So we aren't actually defining the RNN here, just the type of cell we'll use in the hidden layer.\n",
        "\n",
        "Below, we implement the `build_lstm` function to create these LSTM cells and the initial state."
      ]
    },
    {
      "metadata": {
        "id": "weSijJ1_Bxfx",
        "colab_type": "code",
        "colab": {
          "autoexec": {
            "startup": false,
            "wait_interval": 0
          }
        }
      },
      "cell_type": "code",
      "source": [
        "def build_lstm(lstm_size, num_layers, batch_size, keep_prob):\n",
        "    ''' Build LSTM cell.\n",
        "    \n",
        "        Arguments\n",
        "        ---------\n",
        "        keep_prob: Scalar tensor (tf.placeholder) for the dropout keep probability\n",
        "        lstm_size: Size of the hidden layers in the LSTM cells\n",
        "        num_layers: Number of LSTM layers\n",
        "        batch_size: Batch size\n",
        "\n",
        "    '''\n",
        "    ### Build the LSTM Cell\n",
        "    \n",
        "    def build_cell(lstm_size, keep_prob):\n",
        "        # Use a basic LSTM cell\n",
        "        lstm = tf.contrib.rnn.BasicLSTMCell(lstm_size)\n",
        "        \n",
        "        # Add dropout to the cell\n",
        "        drop = tf.contrib.rnn.DropoutWrapper(lstm, output_keep_prob=keep_prob)\n",
        "        return drop\n",
        "    \n",
        "    \n",
        "    # Stack up multiple LSTM layers, for deep learning\n",
        "    cell = tf.contrib.rnn.MultiRNNCell([build_cell(lstm_size, keep_prob) for _ in range(num_layers)])\n",
        "    initial_state = cell.zero_state(batch_size, tf.float32)\n",
        "    \n",
        "    return cell, initial_state"
      ],
      "execution_count": 0,
      "outputs": []
    },
    {
      "metadata": {
        "id": "qhurj7iqBxf1",
        "colab_type": "text"
      },
      "cell_type": "markdown",
      "source": [
        "### RNN Output\n",
        "\n",
        "Here we'll create the output layer. We need to connect the output of the RNN cells to a full connected layer with a softmax output. The softmax output gives us a probability distribution we can use to predict the next character, so we want this layer to have size $C$, the number of classes/characters we have in our text."
      ]
    },
    {
      "metadata": {
        "id": "HkOjW9gkBxf1",
        "colab_type": "code",
        "colab": {
          "autoexec": {
            "startup": false,
            "wait_interval": 0
          }
        }
      },
      "cell_type": "code",
      "source": [
        "def build_output(lstm_output, in_size, out_size):\n",
        "    ''' Build a softmax layer, return the softmax output and logits.\n",
        "    \n",
        "        Arguments\n",
        "        ---------\n",
        "        \n",
        "        lstm_output: List of output tensors from the LSTM layer\n",
        "        in_size: Size of the input tensor, for example, size of the LSTM cells\n",
        "        out_size: Size of this softmax layer\n",
        "    \n",
        "    '''\n",
        "\n",
        "    # Reshape output so it's a bunch of rows, one row for each step for each sequence.\n",
        "    # Concatenate lstm_output over axis 1 (the columns)\n",
        "    seq_output = tf.concat(lstm_output,axis = 1)\n",
        "    # Reshape seq_output to a 2D tensor with lstm_size columns\n",
        "    x = tf.reshape(seq_output,[-1,in_size])\n",
        "    \n",
        "    # Connect the RNN outputs to a softmax layer\n",
        "    with tf.variable_scope('softmax'):\n",
        "        # Create the weight and bias variables here\n",
        "        softmax_w = tf.Variable(tf.truncated_normal((in_size,out_size),stddev=0.1))\n",
        "        softmax_b = tf.Variable(tf.zeros(out_size))\n",
        "    \n",
        "    # Since output is a bunch of rows of RNN cell outputs, logits will be a bunch\n",
        "    # of rows of logit outputs, one for each step and sequence\n",
        "    logits = tf.matmul(x,softmax_w) + softmax_b\n",
        "    \n",
        "    # Use softmax to get the probabilities for predicted characters\n",
        "    out = tf.nn.softmax(logits=logits,name='predictions')\n",
        "    \n",
        "    return out, logits"
      ],
      "execution_count": 0,
      "outputs": []
    },
    {
      "metadata": {
        "id": "9d3VNRCZBxf6",
        "colab_type": "text"
      },
      "cell_type": "markdown",
      "source": [
        "### Training loss\n",
        "\n",
        "Next up is the training loss. We get the logits and targets and calculate the softmax cross-entropy loss. "
      ]
    },
    {
      "metadata": {
        "id": "rcda2RviBxf9",
        "colab_type": "code",
        "colab": {
          "autoexec": {
            "startup": false,
            "wait_interval": 0
          }
        }
      },
      "cell_type": "code",
      "source": [
        "def build_loss(logits, targets, lstm_size, num_classes):\n",
        "    ''' Calculate the loss from the logits and the targets.\n",
        "    \n",
        "        Arguments\n",
        "        ---------\n",
        "        logits: Logits from final fully connected layer\n",
        "        targets: Targets for supervised learning\n",
        "        lstm_size: Number of LSTM hidden units\n",
        "        num_classes: Number of classes in targets\n",
        "        \n",
        "    '''\n",
        "    \n",
        "    # One-hot encode targets and reshape to match logits, one row per sequence per step\n",
        "    y_one_hot = tf.one_hot(targets,num_classes)\n",
        "    y_reshaped = tf.reshape(y_one_hot,logits.get_shape())\n",
        "    \n",
        "    # Softmax cross entropy loss\n",
        "    loss = tf.nn.softmax_cross_entropy_with_logits_v2(logits=logits,labels=y_reshaped)\n",
        "    loss=tf.reduce_mean(loss)\n",
        "    \n",
        "    return loss"
      ],
      "execution_count": 0,
      "outputs": []
    },
    {
      "metadata": {
        "id": "V4iYt7OzBxf_",
        "colab_type": "text"
      },
      "cell_type": "markdown",
      "source": [
        "### Optimizer\n",
        "\n",
        "Here we build the optimizer. Normal RNNs have have issues gradients exploding and disappearing. LSTMs fix the disappearance problem, but the gradients can still grow without bound. To fix this, we can clip the gradients above some threshold. That is, if a gradient is larger than that threshold, we set it to the threshold. This will ensure the gradients never grow overly large. Then we use an AdamOptimizer for the learning step."
      ]
    },
    {
      "metadata": {
        "id": "UsOWXjvXBxf_",
        "colab_type": "code",
        "colab": {
          "autoexec": {
            "startup": false,
            "wait_interval": 0
          }
        }
      },
      "cell_type": "code",
      "source": [
        "def build_optimizer(loss, learning_rate, grad_clip):\n",
        "    ''' Build optmizer for training, using gradient clipping.\n",
        "    \n",
        "        Arguments:\n",
        "        loss: Network loss\n",
        "        learning_rate: Learning rate for optimizer\n",
        "    \n",
        "    '''\n",
        "    \n",
        "    # Optimizer for training, using gradient clipping to control exploding gradients\n",
        "    tvars = tf.trainable_variables()\n",
        "    grads, _ = tf.clip_by_global_norm(tf.gradients(loss, tvars), grad_clip)\n",
        "    train_op = tf.train.AdamOptimizer(learning_rate,epsilon = 0.001)\n",
        "    optimizer = train_op.apply_gradients(zip(grads, tvars))\n",
        "    \n",
        "    return optimizer"
      ],
      "execution_count": 0,
      "outputs": []
    },
    {
      "metadata": {
        "id": "4ohpxxzABxgC",
        "colab_type": "text"
      },
      "cell_type": "markdown",
      "source": [
        "### Build the network\n",
        "\n",
        "Now we can put all the pieces together and build a class for the network. To actually run data through the LSTM cells, we will use [`tf.nn.dynamic_rnn`](https://www.tensorflow.org/versions/r1.0/api_docs/python/tf/nn/dynamic_rnn). This function will pass the hidden and cell states across LSTM cells appropriately for us. It returns the outputs for each LSTM cell at each step for each sequence in the mini-batch. It also gives us the final LSTM state. We want to save this state as `final_state` so we can pass it to the first LSTM cell in the the next mini-batch run. For `tf.nn.dynamic_rnn`, we pass in the cell and initial state we get from `build_lstm`, as well as our input sequences. Also, we need to one-hot encode the inputs before going into the RNN. "
      ]
    },
    {
      "metadata": {
        "id": "danKBNLuBxgC",
        "colab_type": "code",
        "colab": {
          "autoexec": {
            "startup": false,
            "wait_interval": 0
          }
        }
      },
      "cell_type": "code",
      "source": [
        "class CharRNN:\n",
        "    \n",
        "    def __init__(self, num_classes, batch_size=64, num_steps=50, \n",
        "                       lstm_size=128, num_layers=2, learning_rate=0.001, \n",
        "                       grad_clip=5, sampling=False):\n",
        "    \n",
        "        # When we're using this network for sampling later, we'll be passing in\n",
        "        # one character at a time, so providing an option for that\n",
        "        if sampling == True:\n",
        "            batch_size, num_steps = 1, 1\n",
        "        else:\n",
        "            batch_size, num_steps = batch_size, num_steps\n",
        "\n",
        "        tf.reset_default_graph()\n",
        "        \n",
        "        # Build the input placeholder tensors\n",
        "        self.inputs, self.targets, self.keep_prob = build_inputs(batch_size,num_steps)\n",
        "\n",
        "        # Build the LSTM cell\n",
        "        cell, self.initial_state = build_lstm(lstm_size, num_layers, batch_size, self.keep_prob)\n",
        "\n",
        "        ### Run the data through the RNN layers\n",
        "        # First, one-hot encode the input tokens\n",
        "        x_one_hot = tf.one_hot(self.inputs,num_classes)\n",
        "        \n",
        "        # Run each sequence step through the RNN with tf.nn.dynamic_rnn \n",
        "        outputs, state =tf.nn.dynamic_rnn(cell, x_one_hot,initial_state=self.initial_state)\n",
        "        self.final_state = state\n",
        "        \n",
        "        # Get softmax predictions and logits\n",
        "        self.prediction, self.logits = build_output(outputs, lstm_size, num_classes)\n",
        "        \n",
        "        # Loss and optimizer (with gradient clipping)\n",
        "        self.loss =  build_loss(self.logits, self.targets, lstm_size, num_classes)\n",
        "        self.optimizer = build_optimizer(self.loss, learning_rate, grad_clip)"
      ],
      "execution_count": 0,
      "outputs": []
    },
    {
      "metadata": {
        "id": "Rg2OcsUSBxgF",
        "colab_type": "text"
      },
      "cell_type": "markdown",
      "source": [
        "## Hyperparameters\n",
        "\n",
        "Here are the hyperparameters for the network.\n",
        "\n",
        "* `batch_size` - Number of sequences running through the network in one pass.\n",
        "* `num_steps` - Number of characters in the sequence the network is trained on. Larger is better typically, the network will learn more long range dependencies. But it takes longer to train. 100 is typically a good number here.\n",
        "* `lstm_size` - The number of units in the hidden layers.\n",
        "* `num_layers` - Number of hidden LSTM layers to use\n",
        "* `learning_rate` - Learning rate for training\n",
        "* `keep_prob` - The dropout keep probability when training. If you're network is overfitting, try decreasing this."
      ]
    },
    {
      "metadata": {
        "id": "n1R1ddPNBxgF",
        "colab_type": "code",
        "colab": {
          "autoexec": {
            "startup": false,
            "wait_interval": 0
          }
        }
      },
      "cell_type": "code",
      "source": [
        "batch_size = 32        # Sequences per batch\n",
        "num_steps = 50         # Number of sequence steps per batch\n",
        "lstm_size = 512         # Size of hidden layers in LSTMs\n",
        "num_layers = 2          # Number of LSTM layers\n",
        "learning_rate = 0.01   # Learning rate\n",
        "keep_prob = 0.5         # Dropout keep probability"
      ],
      "execution_count": 0,
      "outputs": []
    },
    {
      "metadata": {
        "id": "bWkGjxASBxgI",
        "colab_type": "text"
      },
      "cell_type": "markdown",
      "source": [
        "## Time for training"
      ]
    },
    {
      "metadata": {
        "id": "ZR0yd8lGBxgJ",
        "colab_type": "code",
        "colab": {
          "autoexec": {
            "startup": false,
            "wait_interval": 0
          },
          "base_uri": "https://localhost:8080/",
          "height": 731
        },
        "outputId": "8f4778dc-4878-4b17-9d7e-c12253b74c6e",
        "executionInfo": {
          "status": "ok",
          "timestamp": 1524048875388,
          "user_tz": 420,
          "elapsed": 1300642,
          "user": {
            "displayName": "Arun Rajendran",
            "photoUrl": "https://lh3.googleusercontent.com/a/default-user=s128",
            "userId": "100710189298922321078"
          }
        }
      },
      "cell_type": "code",
      "source": [
        "epochs = 20\n",
        "# Print losses every N interations\n",
        "print_every_n = 200\n",
        "\n",
        "# Save every N iterations\n",
        "save_every_n = 200\n",
        "\n",
        "model = CharRNN(len(vocab), batch_size=batch_size, num_steps=num_steps,\n",
        "                lstm_size=lstm_size, num_layers=num_layers, \n",
        "                learning_rate=learning_rate)\n",
        "\n",
        "saver = tf.train.Saver(max_to_keep=100)\n",
        "with tf.Session() as sess:\n",
        "    sess.run(tf.global_variables_initializer())\n",
        "    \n",
        "    # Use the line below to load a checkpoint and resume training\n",
        "    #saver.restore(sess, 'checkpoints/______.ckpt')\n",
        "    counter = 0\n",
        "    for e in range(epochs):\n",
        "        # Train network\n",
        "        new_state = sess.run(model.initial_state)\n",
        "        loss = 0\n",
        "        for x, y in get_batches(encoded, batch_size, num_steps):\n",
        "            counter += 1\n",
        "            start = time.time()\n",
        "            feed = {model.inputs: x,\n",
        "                    model.targets: y,\n",
        "                    model.keep_prob: keep_prob,\n",
        "                    model.initial_state: new_state}\n",
        "            batch_loss, new_state, _ = sess.run([model.loss, \n",
        "                                                 model.final_state, \n",
        "                                                 model.optimizer], \n",
        "                                                 feed_dict=feed)\n",
        "            if (counter % print_every_n == 0):\n",
        "                end = time.time()\n",
        "                print('Epoch: {}/{}... '.format(e+1, epochs),\n",
        "                      'Training Step: {}... '.format(counter),\n",
        "                      'Training loss: {:.4f}... '.format(batch_loss),\n",
        "                      '{:.4f} sec/batch'.format((end-start)))\n",
        "                '''\n",
        "                if(e > 0): \n",
        "                  change = np.abs(temp-batch_loss)\n",
        "                  learning_rate = learning_rate * change  # multiply by the relative change\n",
        "                temp=batch_loss\n",
        "                '''\n",
        "            if (counter % save_every_n == 0):\n",
        "                saver.save(sess, \"checkpoints/i{}_l{}.ckpt\".format(counter, lstm_size))\n",
        "    saver.save(sess, \"checkpoints/i{}_l{}.ckpt\".format(counter, lstm_size))"
      ],
      "execution_count": 17,
      "outputs": [
        {
          "output_type": "stream",
          "text": [
            "Epoch: 1/20...  Training Step: 200...  Training loss: 2.8508...  0.1493 sec/batch\n",
            "Epoch: 1/20...  Training Step: 400...  Training loss: 2.3665...  0.1486 sec/batch\n",
            "Epoch: 2/20...  Training Step: 600...  Training loss: 2.1674...  0.1478 sec/batch\n",
            "Epoch: 2/20...  Training Step: 800...  Training loss: 2.0302...  0.1489 sec/batch\n",
            "Epoch: 3/20...  Training Step: 1000...  Training loss: 1.8547...  0.1533 sec/batch\n",
            "Epoch: 3/20...  Training Step: 1200...  Training loss: 1.7492...  0.1556 sec/batch\n",
            "Epoch: 4/20...  Training Step: 1400...  Training loss: 1.6297...  0.1537 sec/batch\n",
            "Epoch: 4/20...  Training Step: 1600...  Training loss: 1.5259...  0.1552 sec/batch\n",
            "Epoch: 5/20...  Training Step: 1800...  Training loss: 1.5168...  0.1541 sec/batch\n",
            "Epoch: 5/20...  Training Step: 2000...  Training loss: 1.4657...  0.1506 sec/batch\n",
            "Epoch: 6/20...  Training Step: 2200...  Training loss: 1.4808...  0.1503 sec/batch\n",
            "Epoch: 6/20...  Training Step: 2400...  Training loss: 1.3954...  0.1539 sec/batch\n",
            "Epoch: 7/20...  Training Step: 2600...  Training loss: 1.3589...  0.1522 sec/batch\n",
            "Epoch: 7/20...  Training Step: 2800...  Training loss: 1.3177...  0.1536 sec/batch\n",
            "Epoch: 8/20...  Training Step: 3000...  Training loss: 1.2439...  0.1502 sec/batch\n",
            "Epoch: 8/20...  Training Step: 3200...  Training loss: 1.3086...  0.1491 sec/batch\n",
            "Epoch: 9/20...  Training Step: 3400...  Training loss: 1.2310...  0.1541 sec/batch\n",
            "Epoch: 9/20...  Training Step: 3600...  Training loss: 1.1818...  0.1498 sec/batch\n",
            "Epoch: 9/20...  Training Step: 3800...  Training loss: 1.2618...  0.1492 sec/batch\n",
            "Epoch: 10/20...  Training Step: 4000...  Training loss: 1.1893...  0.1458 sec/batch\n",
            "Epoch: 10/20...  Training Step: 4200...  Training loss: 1.1862...  0.1486 sec/batch\n",
            "Epoch: 11/20...  Training Step: 4400...  Training loss: 1.1839...  0.1514 sec/batch\n",
            "Epoch: 11/20...  Training Step: 4600...  Training loss: 1.1889...  0.1512 sec/batch\n",
            "Epoch: 12/20...  Training Step: 4800...  Training loss: 1.2017...  0.1558 sec/batch\n",
            "Epoch: 12/20...  Training Step: 5000...  Training loss: 1.1477...  0.1576 sec/batch\n",
            "Epoch: 13/20...  Training Step: 5200...  Training loss: 1.2485...  0.1501 sec/batch\n",
            "Epoch: 13/20...  Training Step: 5400...  Training loss: 1.1955...  0.1508 sec/batch\n",
            "Epoch: 14/20...  Training Step: 5600...  Training loss: 1.1215...  0.1520 sec/batch\n",
            "Epoch: 14/20...  Training Step: 5800...  Training loss: 1.1883...  0.1527 sec/batch\n",
            "Epoch: 15/20...  Training Step: 6000...  Training loss: 1.1225...  0.1548 sec/batch\n",
            "Epoch: 15/20...  Training Step: 6200...  Training loss: 1.0874...  0.1478 sec/batch\n",
            "Epoch: 16/20...  Training Step: 6400...  Training loss: 1.0844...  0.1566 sec/batch\n",
            "Epoch: 16/20...  Training Step: 6600...  Training loss: 1.1345...  0.1579 sec/batch\n",
            "Epoch: 17/20...  Training Step: 6800...  Training loss: 1.0678...  0.1542 sec/batch\n",
            "Epoch: 17/20...  Training Step: 7000...  Training loss: 1.1373...  0.1554 sec/batch\n",
            "Epoch: 17/20...  Training Step: 7200...  Training loss: 1.1353...  0.1587 sec/batch\n",
            "Epoch: 18/20...  Training Step: 7400...  Training loss: 1.0537...  0.1554 sec/batch\n",
            "Epoch: 18/20...  Training Step: 7600...  Training loss: 1.1210...  0.1468 sec/batch\n",
            "Epoch: 19/20...  Training Step: 7800...  Training loss: 1.0535...  0.1470 sec/batch\n",
            "Epoch: 19/20...  Training Step: 8000...  Training loss: 1.0501...  0.1513 sec/batch\n",
            "Epoch: 20/20...  Training Step: 8200...  Training loss: 1.0771...  0.1510 sec/batch\n",
            "Epoch: 20/20...  Training Step: 8400...  Training loss: 1.0757...  0.1567 sec/batch\n"
          ],
          "name": "stdout"
        }
      ]
    },
    {
      "metadata": {
        "id": "L-Y3o6plBxgN",
        "colab_type": "text"
      },
      "cell_type": "markdown",
      "source": [
        "#### Saved checkpoints"
      ]
    },
    {
      "metadata": {
        "id": "A17g9ADnBxgN",
        "colab_type": "code",
        "colab": {
          "autoexec": {
            "startup": false,
            "wait_interval": 0
          },
          "base_uri": "https://localhost:8080/",
          "height": 765
        },
        "outputId": "1ef75f6e-9484-4fc4-dbe5-2952eb577f44",
        "executionInfo": {
          "status": "ok",
          "timestamp": 1524048875883,
          "user_tz": 420,
          "elapsed": 286,
          "user": {
            "displayName": "Arun Rajendran",
            "photoUrl": "https://lh3.googleusercontent.com/a/default-user=s128",
            "userId": "100710189298922321078"
          }
        }
      },
      "cell_type": "code",
      "source": [
        "tf.train.get_checkpoint_state('checkpoints')"
      ],
      "execution_count": 18,
      "outputs": [
        {
          "output_type": "execute_result",
          "data": {
            "text/plain": [
              "model_checkpoint_path: \"checkpoints/i8480_l512.ckpt\"\n",
              "all_model_checkpoint_paths: \"checkpoints/i200_l512.ckpt\"\n",
              "all_model_checkpoint_paths: \"checkpoints/i400_l512.ckpt\"\n",
              "all_model_checkpoint_paths: \"checkpoints/i600_l512.ckpt\"\n",
              "all_model_checkpoint_paths: \"checkpoints/i800_l512.ckpt\"\n",
              "all_model_checkpoint_paths: \"checkpoints/i1000_l512.ckpt\"\n",
              "all_model_checkpoint_paths: \"checkpoints/i1200_l512.ckpt\"\n",
              "all_model_checkpoint_paths: \"checkpoints/i1400_l512.ckpt\"\n",
              "all_model_checkpoint_paths: \"checkpoints/i1600_l512.ckpt\"\n",
              "all_model_checkpoint_paths: \"checkpoints/i1800_l512.ckpt\"\n",
              "all_model_checkpoint_paths: \"checkpoints/i2000_l512.ckpt\"\n",
              "all_model_checkpoint_paths: \"checkpoints/i2200_l512.ckpt\"\n",
              "all_model_checkpoint_paths: \"checkpoints/i2400_l512.ckpt\"\n",
              "all_model_checkpoint_paths: \"checkpoints/i2600_l512.ckpt\"\n",
              "all_model_checkpoint_paths: \"checkpoints/i2800_l512.ckpt\"\n",
              "all_model_checkpoint_paths: \"checkpoints/i3000_l512.ckpt\"\n",
              "all_model_checkpoint_paths: \"checkpoints/i3200_l512.ckpt\"\n",
              "all_model_checkpoint_paths: \"checkpoints/i3400_l512.ckpt\"\n",
              "all_model_checkpoint_paths: \"checkpoints/i3600_l512.ckpt\"\n",
              "all_model_checkpoint_paths: \"checkpoints/i3800_l512.ckpt\"\n",
              "all_model_checkpoint_paths: \"checkpoints/i4000_l512.ckpt\"\n",
              "all_model_checkpoint_paths: \"checkpoints/i4200_l512.ckpt\"\n",
              "all_model_checkpoint_paths: \"checkpoints/i4400_l512.ckpt\"\n",
              "all_model_checkpoint_paths: \"checkpoints/i4600_l512.ckpt\"\n",
              "all_model_checkpoint_paths: \"checkpoints/i4800_l512.ckpt\"\n",
              "all_model_checkpoint_paths: \"checkpoints/i5000_l512.ckpt\"\n",
              "all_model_checkpoint_paths: \"checkpoints/i5200_l512.ckpt\"\n",
              "all_model_checkpoint_paths: \"checkpoints/i5400_l512.ckpt\"\n",
              "all_model_checkpoint_paths: \"checkpoints/i5600_l512.ckpt\"\n",
              "all_model_checkpoint_paths: \"checkpoints/i5800_l512.ckpt\"\n",
              "all_model_checkpoint_paths: \"checkpoints/i6000_l512.ckpt\"\n",
              "all_model_checkpoint_paths: \"checkpoints/i6200_l512.ckpt\"\n",
              "all_model_checkpoint_paths: \"checkpoints/i6400_l512.ckpt\"\n",
              "all_model_checkpoint_paths: \"checkpoints/i6600_l512.ckpt\"\n",
              "all_model_checkpoint_paths: \"checkpoints/i6800_l512.ckpt\"\n",
              "all_model_checkpoint_paths: \"checkpoints/i7000_l512.ckpt\"\n",
              "all_model_checkpoint_paths: \"checkpoints/i7200_l512.ckpt\"\n",
              "all_model_checkpoint_paths: \"checkpoints/i7400_l512.ckpt\"\n",
              "all_model_checkpoint_paths: \"checkpoints/i7600_l512.ckpt\"\n",
              "all_model_checkpoint_paths: \"checkpoints/i7800_l512.ckpt\"\n",
              "all_model_checkpoint_paths: \"checkpoints/i8000_l512.ckpt\"\n",
              "all_model_checkpoint_paths: \"checkpoints/i8200_l512.ckpt\"\n",
              "all_model_checkpoint_paths: \"checkpoints/i8400_l512.ckpt\"\n",
              "all_model_checkpoint_paths: \"checkpoints/i8480_l512.ckpt\""
            ]
          },
          "metadata": {
            "tags": []
          },
          "execution_count": 18
        }
      ]
    },
    {
      "metadata": {
        "id": "0Jm2SH4KBxgQ",
        "colab_type": "text"
      },
      "cell_type": "markdown",
      "source": [
        "## Sampling\n",
        "\n",
        "Now that the network is trained, we'll can use it to generate new text. The idea is that we pass in a character, then the network will predict the next character. We can use the new one, to predict the next one. And we keep doing this to generate all new text. I also included some functionality to prime the network with some text by passing in a string and building up a state from that.\n",
        "\n",
        "The network gives us predictions for each character. To reduce noise and make things a little less random, I'm going to only choose a new character from the top N most likely characters.\n"
      ]
    },
    {
      "metadata": {
        "id": "orV0FF0QBxgR",
        "colab_type": "code",
        "colab": {
          "autoexec": {
            "startup": false,
            "wait_interval": 0
          }
        }
      },
      "cell_type": "code",
      "source": [
        "def pick_top_n(preds, vocab_size, top_n=5):\n",
        "    p = np.squeeze(preds)\n",
        "    p[np.argsort(p)[:-top_n]] = 0\n",
        "    p = p / np.sum(p)\n",
        "    c = np.random.choice(vocab_size, 1, p=p)[0]\n",
        "    return c"
      ],
      "execution_count": 0,
      "outputs": []
    },
    {
      "metadata": {
        "id": "mfg7vRz2BxgU",
        "colab_type": "code",
        "colab": {
          "autoexec": {
            "startup": false,
            "wait_interval": 0
          }
        }
      },
      "cell_type": "code",
      "source": [
        "def sample(checkpoint, n_samples, lstm_size, vocab_size, prime=\"The \"):\n",
        "    samples = [c for c in prime]\n",
        "    model = CharRNN(len(vocab), lstm_size=lstm_size, sampling=True)\n",
        "    saver = tf.train.Saver()\n",
        "    with tf.Session() as sess:\n",
        "        saver.restore(sess, checkpoint)\n",
        "        new_state = sess.run(model.initial_state)\n",
        "        for c in prime:\n",
        "            x = np.zeros((1, 1))\n",
        "            x[0,0] = vocab_to_int[c]\n",
        "            feed = {model.inputs: x,\n",
        "                    model.keep_prob: 1.,\n",
        "                    model.initial_state: new_state}\n",
        "            preds, new_state = sess.run([model.prediction, model.final_state], \n",
        "                                         feed_dict=feed)\n",
        "\n",
        "        c = pick_top_n(preds, len(vocab))\n",
        "        samples.append(int_to_vocab[c])\n",
        "\n",
        "        for i in range(n_samples):\n",
        "            x[0,0] = c\n",
        "            feed = {model.inputs: x,\n",
        "                    model.keep_prob: 1.,\n",
        "                    model.initial_state: new_state}\n",
        "            preds, new_state = sess.run([model.prediction, model.final_state], \n",
        "                                         feed_dict=feed)\n",
        "\n",
        "            c = pick_top_n(preds, len(vocab))\n",
        "            samples.append(int_to_vocab[c])\n",
        "        \n",
        "    return ''.join(samples)"
      ],
      "execution_count": 0,
      "outputs": []
    },
    {
      "metadata": {
        "id": "HQzlQzpfBxgV",
        "colab_type": "text"
      },
      "cell_type": "markdown",
      "source": [
        "Here, pass in the path to a checkpoint and sample from the network."
      ]
    },
    {
      "metadata": {
        "id": "0rBTyWY6BxgX",
        "colab_type": "code",
        "colab": {
          "autoexec": {
            "startup": false,
            "wait_interval": 0
          },
          "base_uri": "https://localhost:8080/",
          "height": 34
        },
        "outputId": "2c62f5b0-9453-49c7-cba8-eac400e2f0d8",
        "executionInfo": {
          "status": "ok",
          "timestamp": 1524048879049,
          "user_tz": 420,
          "elapsed": 364,
          "user": {
            "displayName": "Arun Rajendran",
            "photoUrl": "https://lh3.googleusercontent.com/a/default-user=s128",
            "userId": "100710189298922321078"
          }
        }
      },
      "cell_type": "code",
      "source": [
        "tf.train.latest_checkpoint('checkpoints')"
      ],
      "execution_count": 21,
      "outputs": [
        {
          "output_type": "execute_result",
          "data": {
            "text/plain": [
              "'checkpoints/i8480_l512.ckpt'"
            ]
          },
          "metadata": {
            "tags": []
          },
          "execution_count": 21
        }
      ]
    },
    {
      "metadata": {
        "id": "Pgh1-VmHBxgZ",
        "colab_type": "code",
        "colab": {
          "autoexec": {
            "startup": false,
            "wait_interval": 0
          },
          "base_uri": "https://localhost:8080/",
          "height": 445
        },
        "outputId": "c22f7bbc-377e-41e8-8428-a221c22892b1",
        "executionInfo": {
          "status": "ok",
          "timestamp": 1524048900782,
          "user_tz": 420,
          "elapsed": 21123,
          "user": {
            "displayName": "Arun Rajendran",
            "photoUrl": "https://lh3.googleusercontent.com/a/default-user=s128",
            "userId": "100710189298922321078"
          }
        }
      },
      "cell_type": "code",
      "source": [
        "checkpoint = tf.train.latest_checkpoint('checkpoints')\n",
        "samp = sample(checkpoint, 5000, lstm_size, len(vocab), prime=\"Dream\")\n",
        "print(samp)"
      ],
      "execution_count": 22,
      "outputs": [
        {
          "output_type": "stream",
          "text": [
            "INFO:tensorflow:Restoring parameters from checkpoints/i8480_l512.ckpt\n",
            "Dream heart that such an hour were at all. And the servants to have having seen the present, how said they would have been so fortunately in the repeated confusion. At the same period of their name than in the room.\n",
            "\n",
            "Elizabeth was a visit at Longbourn, and a folly and admiration of his attachment, as she would now say the settled and countenance of them there was a story of sink at home.\n",
            "\n",
            "In addre side of the sense, so thought at such a consolation of saying:\n",
            "\n",
            "In a companion as they have been any admiration of the first consceart, and said his form of her sister, but with as the pleasure of her party, and, was she said:\n",
            "\n",
            "In daughters and the case. I shall be as few of it, and was this is a very longer side at home. He seemed to say that her list is so disposed to means in the match in town.\n",
            "\n",
            "The address of their constant parties were talking of that the same time she would say shall as to see the house, as they warmed to say to the side, and there was not a good such a patience with him, with such defection. She can hope it improved in her sister, and then wholling it to talk to as she could be all seeing all that she had at an addition to his with some opportunity of the favourable solt of the histers with his communication, took them, though there is no such cousin this memerather; and that they were, but as a fine sont impossible share who can allured them to send a servont of the same way, situation for them that he had thought out of men, had not told her some of them. They had been still a fortune at her acquaintance, and there was not so could to tell him and having seen them, but to admire her heart with many of them. He was extreme. The repeated conversation on her some point of this present consceuring her affair as their manner of any often, that the ladies of her suspense and heart was at lost. His sister had been so walk as a gard, when they were so far from hours to the satisfaction of all personal the person. The listener shild, there is very satisfied to the particulars of his character, that her happiness and talking to their acquaintance and town was their manner in town way a letter, she saw the happy excellent succasion, and was as soon as he had been the cass would attempt to mend them to have the sake of the rupted father, and their consent so well assured them.\n",
            "\n",
            "Elizabeth added:\n",
            "\n",
            "Elizabeth saw a strend of the father.\n",
            "\n",
            "I shall so think of the happiness of my person. It was somewhere than it might as she could be more immediately surprised; and they will never be as for his approach on all; and had they set anxaced. He was such a pales, and when their sincere party at Lydia was now so well after somebody and county, a cheerful the listre to her hand so supposed that it was sharely admiration and all misfortune, and however, to his addressision at libits to her the resistance, and was always than her mother as had been into the house and a sense of such a state in his sister's repentance. She was enough, hand of them.\n",
            "\n",
            "Their sisters were absolutely concernation thought the happy spate of settled from their sensition as heless, she hoped to the rest of them; and that he was settled her sisters and towards these would be too half a surprise of all their attention as she could not say well bormed along, what a shire was selious in the way, at the walk, and there will not alwerd her sisters. He had told an elegant party as a ceremony who had not built so might see them a sense of all his composure, should have been the subject to her and could not thought; and the attention of her mistortuse of an excellent circumstance, that she found her to have her asked a great proper the sentiment, had been made the happy astention of all the whole feelings which had a sidel make anything times on the sister of its children and matter and added in such a matter. And such amusement is a value which the precent astonishment are almost asserfid to see, and how meeting the stile of some of his cousin's sentiment, and so she could not take the house, and she could not advise him to be another side and some to the feeling of his subject which she speaked them to ten a ways of saying a surprise of Mrs. Phillips's appleness and advantage; and when they were so much the sace of the surjest company. She was as she sat defased the state of situation, the two eldest of the superior opinion, so much ill of her sister, as he took them the same time time silence. He could not be a great comfort of a share of his single; and the sisters will naturally be mised a few days, at the pass, there is now set her and subject, had no delicacy to the point of course three times at her family at Lady Catherine and Lydia, would, and well anxious to have the last person to his sister, without supposing them with an address to supply.\n",
            "\n",
            "Elizabeth assenting his lift, she had no other spring, had the listing post in that speech, she said:\n",
            "\n",
            "Miss Bingley and his friend, after a stationif through some time, a with this sincere course was told h\n"
          ],
          "name": "stdout"
        }
      ]
    },
    {
      "metadata": {
        "id": "5E6SumYrBxge",
        "colab_type": "code",
        "colab": {
          "autoexec": {
            "startup": false,
            "wait_interval": 0
          },
          "base_uri": "https://localhost:8080/",
          "height": 105
        },
        "outputId": "43a96bce-b2d7-4e59-e38e-c299d3014f0d",
        "executionInfo": {
          "status": "ok",
          "timestamp": 1524048905944,
          "user_tz": 420,
          "elapsed": 5054,
          "user": {
            "displayName": "Arun Rajendran",
            "photoUrl": "https://lh3.googleusercontent.com/a/default-user=s128",
            "userId": "100710189298922321078"
          }
        }
      },
      "cell_type": "code",
      "source": [
        "checkpoint = 'checkpoints/i600_l512.ckpt'\n",
        "samp = sample(checkpoint, 1000, lstm_size, len(vocab), prime=\"Dream\")\n",
        "print(samp)"
      ],
      "execution_count": 23,
      "outputs": [
        {
          "output_type": "stream",
          "text": [
            "INFO:tensorflow:Restoring parameters from checkpoints/i600_l512.ckpt\n",
            "Dreame,, what she sise ant her so han tuers of a dist of hin wish thite asd bis an the hir anthir and whe thith the tilt the with that the wor hous tourd to hir thougt too the ang ot to assingers, ber te his te ther wes at as tho mint tho him has tonter on wathe whith hever sust bunt alt thet the the soun wo hor sis the sand to her a salling the has silly of whe shim ald an thes the wis of theng hot, hed she torle als bitt he sore the the heve andentite of andere fom the mish, withe ture so cantire.\n",
            "\n",
            "The sas a deatt the her sotine what and alt ald int on wether wast at in wimen ast and of who want att ance were that, be ather se songer at thete ande went the se tion his thingess to ald ald him thit thit of the hen sersile be soture thas and ther the har ther heve sount hor wead ande whet tull alt te tho sher wallyy of aredirene tho heve ther wes th mimentherser of whourd and tho gone who har avy him te wimh, had we har her hing whe with an ant ald bet the has is of wise so counte thour the s\n"
          ],
          "name": "stdout"
        }
      ]
    },
    {
      "metadata": {
        "id": "DbYOneDmBxgf",
        "colab_type": "code",
        "colab": {
          "autoexec": {
            "startup": false,
            "wait_interval": 0
          },
          "base_uri": "https://localhost:8080/",
          "height": 105
        },
        "outputId": "70c9d0f9-2b97-4bf6-8e0b-a70ff7db535a",
        "executionInfo": {
          "status": "ok",
          "timestamp": 1524048911117,
          "user_tz": 420,
          "elapsed": 5037,
          "user": {
            "displayName": "Arun Rajendran",
            "photoUrl": "https://lh3.googleusercontent.com/a/default-user=s128",
            "userId": "100710189298922321078"
          }
        }
      },
      "cell_type": "code",
      "source": [
        "checkpoint = 'checkpoints/i1200_l512.ckpt'\n",
        "samp = sample(checkpoint, 1000, lstm_size, len(vocab), prime=\"Dream\")\n",
        "print(samp)"
      ],
      "execution_count": 24,
      "outputs": [
        {
          "output_type": "stream",
          "text": [
            "INFO:tensorflow:Restoring parameters from checkpoints/i1200_l512.ckpt\n",
            "Dreaming their sine ot there that the could so bithing to should, and soun the saint his asser, and should a converysan enough to thouke a sto to be the sure of had but well tatious of the rost a more at her so till. The felforedy the radion. There sour in secirest..\n",
            "\n",
            "I was nover hound. There firsition that he hereffrended to the plakence. The fast she side of the sempartion to ang any to discalfest her bettinges. Tree tality a to befor her than stine, and with the countionss and has ploation to bothises, shis wele a dore of her seece, whon ant the supting and the camone of that shall the carest, and as siscantating and any siming when then a mintlons, whon who will take to him a fithire as suried hor. Bitken tame house a mutter it, her was so mad had sood ald and in thay. Who shis had the palies of than a much of she sat then so hap his suppess at a many his presend that such and and thoul the fournt on sisceries of see to betore with his promance,, hor than a so mang on than an ow her sisp\n"
          ],
          "name": "stdout"
        }
      ]
    },
    {
      "metadata": {
        "id": "jc4td-4rTg2k",
        "colab_type": "code",
        "colab": {
          "autoexec": {
            "startup": false,
            "wait_interval": 0
          },
          "base_uri": "https://localhost:8080/",
          "height": 71
        },
        "outputId": "35f54449-36e1-4366-bed4-30d4c41cb4e5",
        "executionInfo": {
          "status": "ok",
          "timestamp": 1524048916287,
          "user_tz": 420,
          "elapsed": 5079,
          "user": {
            "displayName": "Arun Rajendran",
            "photoUrl": "https://lh3.googleusercontent.com/a/default-user=s128",
            "userId": "100710189298922321078"
          }
        }
      },
      "cell_type": "code",
      "source": [
        "checkpoint = 'checkpoints/i2400_l512.ckpt'\n",
        "samp = sample(checkpoint, 1000, lstm_size, len(vocab), prime=\"Dream\")\n",
        "print(samp)"
      ],
      "execution_count": 25,
      "outputs": [
        {
          "output_type": "stream",
          "text": [
            "INFO:tensorflow:Restoring parameters from checkpoints/i2400_l512.ckpt\n",
            "Dreamance the particular to sain herselvess which had all the sume together, that it, and asserable tolteme without interest, that is whether see of such and other only that is wonder, too marry, and a formones were receiving in the rang at her as an all the resign to be a supper. Her fame that I have been, sointance, and it will so make her; and had the sabserve to have the stard, and the sepone were answer, and as surpecsion and trought and the sure in she had to have been a mind by the person that you certainly a sawe most into the saming too most all the conversation with his farious, see where he was so send an agiment, that he could have been mentioned in the care with mose which a said with the whole. He had allowed to the person of my probesce immediately to the who as made it, she ad some offerense of a certain were seet to thanks and the subject and towarss in superitious in her for a choose. They will not have said had been the present or a party of hears; and it is so the subject\n"
          ],
          "name": "stdout"
        }
      ]
    },
    {
      "metadata": {
        "id": "LYDw7v0XThE9",
        "colab_type": "code",
        "colab": {
          "autoexec": {
            "startup": false,
            "wait_interval": 0
          },
          "base_uri": "https://localhost:8080/",
          "height": 173
        },
        "outputId": "42d8341f-c11c-4225-b288-2a29d02c76e7",
        "executionInfo": {
          "status": "ok",
          "timestamp": 1524048921378,
          "user_tz": 420,
          "elapsed": 5070,
          "user": {
            "displayName": "Arun Rajendran",
            "photoUrl": "https://lh3.googleusercontent.com/a/default-user=s128",
            "userId": "100710189298922321078"
          }
        }
      },
      "cell_type": "code",
      "source": [
        "checkpoint = 'checkpoints/i4800_l512.ckpt'\n",
        "samp = sample(checkpoint, 1000, lstm_size, len(vocab), prime=\"Dream\")\n",
        "print(samp)"
      ],
      "execution_count": 26,
      "outputs": [
        {
          "output_type": "stream",
          "text": [
            "INFO:tensorflow:Restoring parameters from checkpoints/i4800_l512.ckpt\n",
            "Dreamon attentions it went as to see him to be so much or herself, and as he sais so to say to my dear.\n",
            "\n",
            "Mary had seen the life of the morning to a conferemation at talking at he wanted to her at hamber we shall not be askuned on him.\n",
            "\n",
            "My dear, since, said Elizabeth, then she said to ters it is in my father will, and seeing him; and to talk to the motive, and all half have the country, but it is not as he should be disagreeable to think what any of any of its answer, but his character are danger of him which she could not be discovered, and to the streater there was nothing at her of him, and were now interested by some occasion, who was tenting the matter of having at earnest, was shortly as there was a country this meaning in her father, to be dared before they were oft no longer. The character was expected and alsure; and she wish to see what I had the person will the part of her time, and seems without it. I am afraid to any other same thing of her sister.\n",
            "\n",
            "I have not married between the\n"
          ],
          "name": "stdout"
        }
      ]
    }
  ]
}